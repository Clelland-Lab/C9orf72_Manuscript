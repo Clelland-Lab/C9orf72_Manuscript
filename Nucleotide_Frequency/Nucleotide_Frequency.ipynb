{
 "cells": [
  {
   "cell_type": "code",
   "execution_count": 1,
   "outputs": [],
   "source": [
    "from pathlib import Path\n",
    "\n",
    "import pandas as pd\n",
    "import pysam as ps"
   ],
   "metadata": {
    "collapsed": false,
    "ExecuteTime": {
     "end_time": "2024-08-31T01:40:36.958799520Z",
     "start_time": "2024-08-31T01:40:36.085738673Z"
    }
   },
   "id": "78183f65290ca0b8"
  },
  {
   "cell_type": "code",
   "execution_count": 2,
   "outputs": [],
   "source": [
    "def coordinate_to_input(coordinate, chr_to_refseq):\n",
    "    _input = {}\n",
    "    split = coordinate.split(':')\n",
    "    _input['chromosome'] = split[0]\n",
    "    _input['refseq'] = chr_to_refseq[split[0]]\n",
    "    split = split[1].split('-')\n",
    "    _input['start'] = int(split[0]) - 1 # fetch is 0-based, half-open\n",
    "    _input['end'] = int(split[1]) # fetch is 0-based, half-open\n",
    "    return _input"
   ],
   "metadata": {
    "collapsed": false,
    "ExecuteTime": {
     "end_time": "2024-08-31T01:40:36.959538941Z",
     "start_time": "2024-08-31T01:40:36.468632445Z"
    }
   },
   "id": "cf8e924d6dd05f88"
  },
  {
   "cell_type": "code",
   "execution_count": 3,
   "outputs": [],
   "source": [
    "def get_variants(variant_file, _input):\n",
    "    return variant_file.fetch(_input['chromosome'], _input['start'], _input['end']) # fetch is 0-based, half-open"
   ],
   "metadata": {
    "collapsed": false,
    "ExecuteTime": {
     "end_time": "2024-08-31T01:40:36.959926540Z",
     "start_time": "2024-08-31T01:40:36.474488612Z"
    }
   },
   "id": "d75014e072411edd"
  },
  {
   "cell_type": "code",
   "execution_count": 4,
   "outputs": [],
   "source": [
    "def generate_dfs(variant_file, input, filter=None):\n",
    "    ff = True # first flag\n",
    "    loci, refs, alts, samples, genotypes = ([] for i in range(5))\n",
    "    for record in get_variants(variant_file, input):\n",
    "        loci.append(record.pos)\n",
    "        refs.append(record.ref)\n",
    "        alts.append(record.alts[0])\n",
    "        if ff:\n",
    "            samples = record.samples.keys()\n",
    "        gi = 0 # genotypes index\n",
    "        for i in range(len(record.samples)):\n",
    "            if (filter is None) or (samples[i] not in filter):\n",
    "                genotype = record.samples[i]['GT']\n",
    "                genotypes.append([genotype]) if ff else genotypes[gi].append(genotype)\n",
    "                gi += 1\n",
    "        ff = False\n",
    "    loci_df = pd.DataFrame({'Locus': loci, 'Ref': refs, 'Alt': alts})\n",
    "    if filter is not None:\n",
    "        for sample in filter:\n",
    "            samples.remove(sample)\n",
    "    samples_df = pd.DataFrame({'Sample': samples, 'Genotype': genotypes})\n",
    "    return loci_df, samples_df"
   ],
   "metadata": {
    "collapsed": false,
    "ExecuteTime": {
     "end_time": "2024-08-31T01:40:36.960424301Z",
     "start_time": "2024-08-31T01:40:36.486213363Z"
    }
   },
   "id": "384f954a1af92705"
  },
  {
   "cell_type": "code",
   "execution_count": 5,
   "outputs": [
    {
     "name": "stderr",
     "output_type": "stream",
     "text": [
      "[W::hts_idx_load3] The index file is older than the data file: /mnt/hgfs/Shared/Data/1000 Genomes/20220422_3202_phased_SNV_INDEL_SV/1kGP_high_coverage_Illumina.chr9.filtered.SNV_INDEL_SV_phased_panel.vcf.gz.tbi\n"
     ]
    }
   ],
   "source": [
    "loi_path = 'Data/C9orf72_Loci.csv' #TODO comma-separated list of loci (of interest) [.csv]\n",
    "variant_file_path = '1kGP_high_coverage_Illumina.chr9.filtered.SNV_INDEL_SV_phased_panel.vcf.gz' #TODO VCF file [.vcf.gz, etc.] https://ftp.1000genomes.ebi.ac.uk/vol1/ftp/data_collections/1000G_2504_high_coverage/working/20220422_3202_phased_SNV_INDEL_SV/\n",
    "#filter_path = 'Data/C9orf72_IDs.csv' #TODO comma-separated list of sample IDs (to be filtered out) [.csv]\n",
    "n = 3202 #TODO (sample size - |samples filtered out|)\n",
    "\n",
    "# GRCh38 RefSeq IDs\n",
    "chr_to_refseq = {'chr1': 'NC_000001.11',\n",
    "                 'chr2': 'NC_000002.12',\n",
    "                 'chr3': 'NC_000003.12',\n",
    "                 'chr4': 'NC_000004.12',\n",
    "                 'chr5': 'NC_000005.10',\n",
    "                 'chr6': 'NC_000006.12',\n",
    "                 'chr7': 'NC_000007.14',\n",
    "                 'chr8': 'NC_000008.11',\n",
    "                 'chr9': 'NC_000009.12',\n",
    "                 'chr10': 'NC_000010.11',\n",
    "                 'chr11': 'NC_000011.10',\n",
    "                 'chr12': 'NC_000012.12',\n",
    "                 'chr13': 'NC_000013.11',\n",
    "                 'chr14': 'NC_000014.9',\n",
    "                 'chr15': 'NC_000015.10',\n",
    "                 'chr16': 'NC_000016.10',\n",
    "                 'chr17': 'NC_000017.11',\n",
    "                 'chr18': 'NC_000018.10',\n",
    "                 'chr19': 'NC_000019.10',\n",
    "                 'chr20': 'NC_000020.11',\n",
    "                 'chr21': 'NC_000021.9',\n",
    "                 'chr22': 'NC_000022.11',\n",
    "                 'chrX': 'NC_000023.11',\n",
    "                 'chrY': 'NC_000024.10',\n",
    "                 'chrMT': 'NC_012920.1'}\n",
    "\n",
    "# loci of interest\n",
    "loi = pd.read_csv(loi_path).sort_values('Locus')\n",
    "\n",
    "# sample IDs to filter (out)\n",
    "#sample_IDs = set(pd.read_csv(filter_path, header=None)[0]) #TODO used for cohort\n",
    "\n",
    "input = coordinate_to_input(f'chr9:{loi.iloc[0][\"Locus\"]}-{loi.iloc[-1][\"Locus\"]}', chr_to_refseq)\n",
    "variant_file = ps.VariantFile(variant_file_path)\n",
    "\n",
    "variants, genotypes = generate_dfs(variant_file, input)\n",
    "#variants, genotypes = generate_dfs(variant_file, input, sample_IDs) #TODO used for cohort"
   ],
   "metadata": {
    "collapsed": false,
    "ExecuteTime": {
     "end_time": "2024-08-31T01:40:40.444382109Z",
     "start_time": "2024-08-31T01:40:36.496106489Z"
    }
   },
   "id": "955dd0a4ee2d6a9c"
  },
  {
   "cell_type": "code",
   "execution_count": 6,
   "outputs": [
    {
     "data": {
      "text/plain": "         RefSNP     Locus ID nt\n0    rs10967976  27544945  H  G\n1      rs812858  27545469  G  A\n2     rs2453565  27551042  F  C\n3    rs12349820  27553878  E  T\n4      rs774356  27559723  D  C\n5      rs774359  27561051  C  C\n6     rs2492816  27565107  B  T\n7   rs142843265  27565220  A  A\n8     rs2453557  27575465  7  C\n9    rs12345062  27578079  6  A\n10    rs2484322  27578937  5  C\n11   rs12350076  27580676  4  C\n13    rs2783010  27581241  3  C\n12    rs2814706  27581251  3  A\n14   rs36062268  27585699  2  T\n15    rs2453556  27586164  1  G",
      "text/html": "<div>\n<style scoped>\n    .dataframe tbody tr th:only-of-type {\n        vertical-align: middle;\n    }\n\n    .dataframe tbody tr th {\n        vertical-align: top;\n    }\n\n    .dataframe thead th {\n        text-align: right;\n    }\n</style>\n<table border=\"1\" class=\"dataframe\">\n  <thead>\n    <tr style=\"text-align: right;\">\n      <th></th>\n      <th>RefSNP</th>\n      <th>Locus</th>\n      <th>ID</th>\n      <th>nt</th>\n    </tr>\n  </thead>\n  <tbody>\n    <tr>\n      <th>0</th>\n      <td>rs10967976</td>\n      <td>27544945</td>\n      <td>H</td>\n      <td>G</td>\n    </tr>\n    <tr>\n      <th>1</th>\n      <td>rs812858</td>\n      <td>27545469</td>\n      <td>G</td>\n      <td>A</td>\n    </tr>\n    <tr>\n      <th>2</th>\n      <td>rs2453565</td>\n      <td>27551042</td>\n      <td>F</td>\n      <td>C</td>\n    </tr>\n    <tr>\n      <th>3</th>\n      <td>rs12349820</td>\n      <td>27553878</td>\n      <td>E</td>\n      <td>T</td>\n    </tr>\n    <tr>\n      <th>4</th>\n      <td>rs774356</td>\n      <td>27559723</td>\n      <td>D</td>\n      <td>C</td>\n    </tr>\n    <tr>\n      <th>5</th>\n      <td>rs774359</td>\n      <td>27561051</td>\n      <td>C</td>\n      <td>C</td>\n    </tr>\n    <tr>\n      <th>6</th>\n      <td>rs2492816</td>\n      <td>27565107</td>\n      <td>B</td>\n      <td>T</td>\n    </tr>\n    <tr>\n      <th>7</th>\n      <td>rs142843265</td>\n      <td>27565220</td>\n      <td>A</td>\n      <td>A</td>\n    </tr>\n    <tr>\n      <th>8</th>\n      <td>rs2453557</td>\n      <td>27575465</td>\n      <td>7</td>\n      <td>C</td>\n    </tr>\n    <tr>\n      <th>9</th>\n      <td>rs12345062</td>\n      <td>27578079</td>\n      <td>6</td>\n      <td>A</td>\n    </tr>\n    <tr>\n      <th>10</th>\n      <td>rs2484322</td>\n      <td>27578937</td>\n      <td>5</td>\n      <td>C</td>\n    </tr>\n    <tr>\n      <th>11</th>\n      <td>rs12350076</td>\n      <td>27580676</td>\n      <td>4</td>\n      <td>C</td>\n    </tr>\n    <tr>\n      <th>13</th>\n      <td>rs2783010</td>\n      <td>27581241</td>\n      <td>3</td>\n      <td>C</td>\n    </tr>\n    <tr>\n      <th>12</th>\n      <td>rs2814706</td>\n      <td>27581251</td>\n      <td>3</td>\n      <td>A</td>\n    </tr>\n    <tr>\n      <th>14</th>\n      <td>rs36062268</td>\n      <td>27585699</td>\n      <td>2</td>\n      <td>T</td>\n    </tr>\n    <tr>\n      <th>15</th>\n      <td>rs2453556</td>\n      <td>27586164</td>\n      <td>1</td>\n      <td>G</td>\n    </tr>\n  </tbody>\n</table>\n</div>"
     },
     "execution_count": 6,
     "metadata": {},
     "output_type": "execute_result"
    }
   ],
   "source": [
    "loi"
   ],
   "metadata": {
    "collapsed": false,
    "ExecuteTime": {
     "end_time": "2024-08-31T01:40:40.644571317Z",
     "start_time": "2024-08-31T01:40:40.454731218Z"
    }
   },
   "id": "2cf3539eec9cb237"
  },
  {
   "cell_type": "code",
   "execution_count": 7,
   "outputs": [
    {
     "data": {
      "text/plain": "         Locus Ref Alt\n0     27544945   G   A\n1     27545059   A   C\n2     27545080   A   G\n3     27545119   A   T\n4     27545155   C   G\n...        ...  ..  ..\n1060  27585823   A   G\n1061  27585951   A   G\n1062  27585964   T   G\n1063  27585986  TA   T\n1064  27586164   A   G\n\n[1065 rows x 3 columns]",
      "text/html": "<div>\n<style scoped>\n    .dataframe tbody tr th:only-of-type {\n        vertical-align: middle;\n    }\n\n    .dataframe tbody tr th {\n        vertical-align: top;\n    }\n\n    .dataframe thead th {\n        text-align: right;\n    }\n</style>\n<table border=\"1\" class=\"dataframe\">\n  <thead>\n    <tr style=\"text-align: right;\">\n      <th></th>\n      <th>Locus</th>\n      <th>Ref</th>\n      <th>Alt</th>\n    </tr>\n  </thead>\n  <tbody>\n    <tr>\n      <th>0</th>\n      <td>27544945</td>\n      <td>G</td>\n      <td>A</td>\n    </tr>\n    <tr>\n      <th>1</th>\n      <td>27545059</td>\n      <td>A</td>\n      <td>C</td>\n    </tr>\n    <tr>\n      <th>2</th>\n      <td>27545080</td>\n      <td>A</td>\n      <td>G</td>\n    </tr>\n    <tr>\n      <th>3</th>\n      <td>27545119</td>\n      <td>A</td>\n      <td>T</td>\n    </tr>\n    <tr>\n      <th>4</th>\n      <td>27545155</td>\n      <td>C</td>\n      <td>G</td>\n    </tr>\n    <tr>\n      <th>...</th>\n      <td>...</td>\n      <td>...</td>\n      <td>...</td>\n    </tr>\n    <tr>\n      <th>1060</th>\n      <td>27585823</td>\n      <td>A</td>\n      <td>G</td>\n    </tr>\n    <tr>\n      <th>1061</th>\n      <td>27585951</td>\n      <td>A</td>\n      <td>G</td>\n    </tr>\n    <tr>\n      <th>1062</th>\n      <td>27585964</td>\n      <td>T</td>\n      <td>G</td>\n    </tr>\n    <tr>\n      <th>1063</th>\n      <td>27585986</td>\n      <td>TA</td>\n      <td>T</td>\n    </tr>\n    <tr>\n      <th>1064</th>\n      <td>27586164</td>\n      <td>A</td>\n      <td>G</td>\n    </tr>\n  </tbody>\n</table>\n<p>1065 rows × 3 columns</p>\n</div>"
     },
     "execution_count": 7,
     "metadata": {},
     "output_type": "execute_result"
    }
   ],
   "source": [
    "variants"
   ],
   "metadata": {
    "collapsed": false,
    "ExecuteTime": {
     "end_time": "2024-08-31T01:40:40.656080187Z",
     "start_time": "2024-08-31T01:40:40.461585092Z"
    }
   },
   "id": "775ee61943b85e68"
  },
  {
   "cell_type": "code",
   "execution_count": 8,
   "outputs": [
    {
     "data": {
      "text/plain": "       Sample                                           Genotype\n0     HG00096  [(1, 1), (0, 0), (0, 0), (0, 0), (0, 0), (0, 0...\n1     HG00097  [(0, 1), (0, 0), (0, 1), (0, 0), (0, 0), (0, 0...\n2     HG00099  [(0, 0), (0, 0), (0, 0), (0, 0), (0, 0), (0, 0...\n3     HG00100  [(1, 1), (0, 0), (0, 0), (0, 0), (0, 0), (0, 0...\n4     HG00101  [(0, 1), (0, 0), (0, 0), (0, 0), (0, 0), (0, 0...\n...       ...                                                ...\n3197  NA21137  [(0, 1), (0, 0), (0, 0), (0, 0), (0, 0), (0, 0...\n3198  NA21141  [(1, 0), (0, 0), (0, 0), (0, 0), (0, 0), (0, 0...\n3199  NA21142  [(1, 1), (0, 0), (1, 0), (0, 0), (0, 0), (0, 0...\n3200  NA21143  [(1, 1), (0, 0), (0, 0), (0, 0), (0, 0), (0, 0...\n3201  NA21144  [(0, 1), (0, 0), (0, 0), (0, 0), (0, 0), (0, 0...\n\n[3202 rows x 2 columns]",
      "text/html": "<div>\n<style scoped>\n    .dataframe tbody tr th:only-of-type {\n        vertical-align: middle;\n    }\n\n    .dataframe tbody tr th {\n        vertical-align: top;\n    }\n\n    .dataframe thead th {\n        text-align: right;\n    }\n</style>\n<table border=\"1\" class=\"dataframe\">\n  <thead>\n    <tr style=\"text-align: right;\">\n      <th></th>\n      <th>Sample</th>\n      <th>Genotype</th>\n    </tr>\n  </thead>\n  <tbody>\n    <tr>\n      <th>0</th>\n      <td>HG00096</td>\n      <td>[(1, 1), (0, 0), (0, 0), (0, 0), (0, 0), (0, 0...</td>\n    </tr>\n    <tr>\n      <th>1</th>\n      <td>HG00097</td>\n      <td>[(0, 1), (0, 0), (0, 1), (0, 0), (0, 0), (0, 0...</td>\n    </tr>\n    <tr>\n      <th>2</th>\n      <td>HG00099</td>\n      <td>[(0, 0), (0, 0), (0, 0), (0, 0), (0, 0), (0, 0...</td>\n    </tr>\n    <tr>\n      <th>3</th>\n      <td>HG00100</td>\n      <td>[(1, 1), (0, 0), (0, 0), (0, 0), (0, 0), (0, 0...</td>\n    </tr>\n    <tr>\n      <th>4</th>\n      <td>HG00101</td>\n      <td>[(0, 1), (0, 0), (0, 0), (0, 0), (0, 0), (0, 0...</td>\n    </tr>\n    <tr>\n      <th>...</th>\n      <td>...</td>\n      <td>...</td>\n    </tr>\n    <tr>\n      <th>3197</th>\n      <td>NA21137</td>\n      <td>[(0, 1), (0, 0), (0, 0), (0, 0), (0, 0), (0, 0...</td>\n    </tr>\n    <tr>\n      <th>3198</th>\n      <td>NA21141</td>\n      <td>[(1, 0), (0, 0), (0, 0), (0, 0), (0, 0), (0, 0...</td>\n    </tr>\n    <tr>\n      <th>3199</th>\n      <td>NA21142</td>\n      <td>[(1, 1), (0, 0), (1, 0), (0, 0), (0, 0), (0, 0...</td>\n    </tr>\n    <tr>\n      <th>3200</th>\n      <td>NA21143</td>\n      <td>[(1, 1), (0, 0), (0, 0), (0, 0), (0, 0), (0, 0...</td>\n    </tr>\n    <tr>\n      <th>3201</th>\n      <td>NA21144</td>\n      <td>[(0, 1), (0, 0), (0, 0), (0, 0), (0, 0), (0, 0...</td>\n    </tr>\n  </tbody>\n</table>\n<p>3202 rows × 2 columns</p>\n</div>"
     },
     "execution_count": 8,
     "metadata": {},
     "output_type": "execute_result"
    }
   ],
   "source": [
    "genotypes"
   ],
   "metadata": {
    "collapsed": false,
    "ExecuteTime": {
     "end_time": "2024-08-31T01:40:40.656818294Z",
     "start_time": "2024-08-31T01:40:40.477739091Z"
    }
   },
   "id": "a65820ff3e849cf0"
  },
  {
   "cell_type": "code",
   "execution_count": 9,
   "outputs": [
    {
     "data": {
      "text/plain": "Empty DataFrame\nColumns: [Locus, Ref, Alt]\nIndex: []",
      "text/html": "<div>\n<style scoped>\n    .dataframe tbody tr th:only-of-type {\n        vertical-align: middle;\n    }\n\n    .dataframe tbody tr th {\n        vertical-align: top;\n    }\n\n    .dataframe thead th {\n        text-align: right;\n    }\n</style>\n<table border=\"1\" class=\"dataframe\">\n  <thead>\n    <tr style=\"text-align: right;\">\n      <th></th>\n      <th>Locus</th>\n      <th>Ref</th>\n      <th>Alt</th>\n    </tr>\n  </thead>\n  <tbody>\n  </tbody>\n</table>\n</div>"
     },
     "execution_count": 9,
     "metadata": {},
     "output_type": "execute_result"
    }
   ],
   "source": [
    "# multiallelic sanity check\n",
    "temp = variants.copy()\n",
    "temp['count'] = 1\n",
    "temp = temp.groupby('Locus').sum().reset_index()\n",
    "temp = set(temp[temp['count'] > 1]['Locus'])\n",
    "temp = variants[variants['Locus'].isin(temp)]\n",
    "temp[temp['Locus'].isin(set(loi['Locus']))] # empty if no multiallelic sites in the loci of interest"
   ],
   "metadata": {
    "collapsed": false,
    "ExecuteTime": {
     "end_time": "2024-08-31T01:40:40.657473504Z",
     "start_time": "2024-08-31T01:40:40.607830773Z"
    }
   },
   "id": "88e980ceb6943630"
  },
  {
   "cell_type": "code",
   "execution_count": 10,
   "outputs": [
    {
     "name": "stdout",
     "output_type": "stream",
     "text": [
      "Unrecognized call frequencies: {}\n"
     ]
    },
    {
     "data": {
      "text/plain": "         RefSNP     Locus ID nt  Ref Alt  1/0 Frequency  0/1 Frequency  \\\n0    rs10967976  27544945  H  G    G   A            646            617   \n1      rs812858  27545469  G  A    C   T            390            441   \n2     rs2453565  27551042  F  C    C   T            398            439   \n3    rs12349820  27553878  E  T    T   C            433            404   \n4      rs774356  27559723  D  C    T   C            454            504   \n5      rs774359  27561051  C  C    T   C            455            505   \n6     rs2492816  27565107  B  T    G   A            741            764   \n7   rs142843265  27565220  A  A  AAG   A            399            442   \n8     rs2453557  27575465  7  C    T   C            758            786   \n9    rs12345062  27578079  6  A    G   A            696            728   \n10    rs2484322  27578937  5  C    T   G            699            728   \n11   rs12350076  27580676  4  C    A   C            770            816   \n12    rs2783010  27581241  3  C    T   C            751            788   \n13    rs2814706  27581251  3  A    G   A            754            777   \n14   rs36062268  27585699  2  T    G   A            223            178   \n15    rs2453556  27586164  1  G    A   G            747            754   \n\n    1/1 Frequency  0/0 Frequency  Total Frequency  Heterozygous Percentage  \\\n0             694           1245             3202                39.444097   \n1              95           2276             3202                25.952530   \n2              99           2266             3202                26.139913   \n3             103           2262             3202                26.139913   \n4             135           2109             3202                29.918801   \n5             136           2106             3202                29.981262   \n6             526           1171             3202                47.001874   \n7             106           2255             3202                26.264834   \n8             882            776             3202                48.219863   \n9             441           1337             3202                44.472205   \n10            574           1201             3202                44.565896   \n11            714            902             3202                49.531543   \n12            748            915             3202                48.063710   \n13            804            867             3202                47.813866   \n14             30           2771             3202                12.523423   \n15            708            993             3202                46.876952   \n\n    Homozygous Ref Percentage  Homozygous Alt Percentage  \\\n0                   38.881949                  21.673954   \n1                   71.080575                   2.966896   \n2                   70.768270                   3.091818   \n3                   70.643348                   3.216740   \n4                   65.865084                   4.216115   \n5                   65.771393                   4.247345   \n6                   36.570893                  16.427233   \n7                   70.424735                   3.310431   \n8                   24.234853                  27.545284   \n9                   41.755153                  13.772642   \n10                  37.507808                  17.926296   \n11                  28.169894                  22.298563   \n12                  28.575890                  23.360400   \n13                  27.076827                  25.109307   \n14                  86.539663                   0.936914   \n15                  31.011868                  22.111181   \n\n    Heterozygous nt Percentage  Homozygous nt Percentage  \n0                    39.444097                 38.881949  \n1                     0.000000                  0.000000  \n2                    26.139913                 70.768270  \n3                    26.139913                 70.643348  \n4                    29.918801                  4.216115  \n5                    29.981262                  4.247345  \n6                     0.000000                  0.000000  \n7                    26.264834                  3.310431  \n8                    48.219863                 27.545284  \n9                    44.472205                 13.772642  \n10                    0.000000                  0.000000  \n11                   49.531543                 22.298563  \n12                   48.063710                 23.360400  \n13                   47.813866                 25.109307  \n14                    0.000000                  0.000000  \n15                   46.876952                 22.111181  ",
      "text/html": "<div>\n<style scoped>\n    .dataframe tbody tr th:only-of-type {\n        vertical-align: middle;\n    }\n\n    .dataframe tbody tr th {\n        vertical-align: top;\n    }\n\n    .dataframe thead th {\n        text-align: right;\n    }\n</style>\n<table border=\"1\" class=\"dataframe\">\n  <thead>\n    <tr style=\"text-align: right;\">\n      <th></th>\n      <th>RefSNP</th>\n      <th>Locus</th>\n      <th>ID</th>\n      <th>nt</th>\n      <th>Ref</th>\n      <th>Alt</th>\n      <th>1/0 Frequency</th>\n      <th>0/1 Frequency</th>\n      <th>1/1 Frequency</th>\n      <th>0/0 Frequency</th>\n      <th>Total Frequency</th>\n      <th>Heterozygous Percentage</th>\n      <th>Homozygous Ref Percentage</th>\n      <th>Homozygous Alt Percentage</th>\n      <th>Heterozygous nt Percentage</th>\n      <th>Homozygous nt Percentage</th>\n    </tr>\n  </thead>\n  <tbody>\n    <tr>\n      <th>0</th>\n      <td>rs10967976</td>\n      <td>27544945</td>\n      <td>H</td>\n      <td>G</td>\n      <td>G</td>\n      <td>A</td>\n      <td>646</td>\n      <td>617</td>\n      <td>694</td>\n      <td>1245</td>\n      <td>3202</td>\n      <td>39.444097</td>\n      <td>38.881949</td>\n      <td>21.673954</td>\n      <td>39.444097</td>\n      <td>38.881949</td>\n    </tr>\n    <tr>\n      <th>1</th>\n      <td>rs812858</td>\n      <td>27545469</td>\n      <td>G</td>\n      <td>A</td>\n      <td>C</td>\n      <td>T</td>\n      <td>390</td>\n      <td>441</td>\n      <td>95</td>\n      <td>2276</td>\n      <td>3202</td>\n      <td>25.952530</td>\n      <td>71.080575</td>\n      <td>2.966896</td>\n      <td>0.000000</td>\n      <td>0.000000</td>\n    </tr>\n    <tr>\n      <th>2</th>\n      <td>rs2453565</td>\n      <td>27551042</td>\n      <td>F</td>\n      <td>C</td>\n      <td>C</td>\n      <td>T</td>\n      <td>398</td>\n      <td>439</td>\n      <td>99</td>\n      <td>2266</td>\n      <td>3202</td>\n      <td>26.139913</td>\n      <td>70.768270</td>\n      <td>3.091818</td>\n      <td>26.139913</td>\n      <td>70.768270</td>\n    </tr>\n    <tr>\n      <th>3</th>\n      <td>rs12349820</td>\n      <td>27553878</td>\n      <td>E</td>\n      <td>T</td>\n      <td>T</td>\n      <td>C</td>\n      <td>433</td>\n      <td>404</td>\n      <td>103</td>\n      <td>2262</td>\n      <td>3202</td>\n      <td>26.139913</td>\n      <td>70.643348</td>\n      <td>3.216740</td>\n      <td>26.139913</td>\n      <td>70.643348</td>\n    </tr>\n    <tr>\n      <th>4</th>\n      <td>rs774356</td>\n      <td>27559723</td>\n      <td>D</td>\n      <td>C</td>\n      <td>T</td>\n      <td>C</td>\n      <td>454</td>\n      <td>504</td>\n      <td>135</td>\n      <td>2109</td>\n      <td>3202</td>\n      <td>29.918801</td>\n      <td>65.865084</td>\n      <td>4.216115</td>\n      <td>29.918801</td>\n      <td>4.216115</td>\n    </tr>\n    <tr>\n      <th>5</th>\n      <td>rs774359</td>\n      <td>27561051</td>\n      <td>C</td>\n      <td>C</td>\n      <td>T</td>\n      <td>C</td>\n      <td>455</td>\n      <td>505</td>\n      <td>136</td>\n      <td>2106</td>\n      <td>3202</td>\n      <td>29.981262</td>\n      <td>65.771393</td>\n      <td>4.247345</td>\n      <td>29.981262</td>\n      <td>4.247345</td>\n    </tr>\n    <tr>\n      <th>6</th>\n      <td>rs2492816</td>\n      <td>27565107</td>\n      <td>B</td>\n      <td>T</td>\n      <td>G</td>\n      <td>A</td>\n      <td>741</td>\n      <td>764</td>\n      <td>526</td>\n      <td>1171</td>\n      <td>3202</td>\n      <td>47.001874</td>\n      <td>36.570893</td>\n      <td>16.427233</td>\n      <td>0.000000</td>\n      <td>0.000000</td>\n    </tr>\n    <tr>\n      <th>7</th>\n      <td>rs142843265</td>\n      <td>27565220</td>\n      <td>A</td>\n      <td>A</td>\n      <td>AAG</td>\n      <td>A</td>\n      <td>399</td>\n      <td>442</td>\n      <td>106</td>\n      <td>2255</td>\n      <td>3202</td>\n      <td>26.264834</td>\n      <td>70.424735</td>\n      <td>3.310431</td>\n      <td>26.264834</td>\n      <td>3.310431</td>\n    </tr>\n    <tr>\n      <th>8</th>\n      <td>rs2453557</td>\n      <td>27575465</td>\n      <td>7</td>\n      <td>C</td>\n      <td>T</td>\n      <td>C</td>\n      <td>758</td>\n      <td>786</td>\n      <td>882</td>\n      <td>776</td>\n      <td>3202</td>\n      <td>48.219863</td>\n      <td>24.234853</td>\n      <td>27.545284</td>\n      <td>48.219863</td>\n      <td>27.545284</td>\n    </tr>\n    <tr>\n      <th>9</th>\n      <td>rs12345062</td>\n      <td>27578079</td>\n      <td>6</td>\n      <td>A</td>\n      <td>G</td>\n      <td>A</td>\n      <td>696</td>\n      <td>728</td>\n      <td>441</td>\n      <td>1337</td>\n      <td>3202</td>\n      <td>44.472205</td>\n      <td>41.755153</td>\n      <td>13.772642</td>\n      <td>44.472205</td>\n      <td>13.772642</td>\n    </tr>\n    <tr>\n      <th>10</th>\n      <td>rs2484322</td>\n      <td>27578937</td>\n      <td>5</td>\n      <td>C</td>\n      <td>T</td>\n      <td>G</td>\n      <td>699</td>\n      <td>728</td>\n      <td>574</td>\n      <td>1201</td>\n      <td>3202</td>\n      <td>44.565896</td>\n      <td>37.507808</td>\n      <td>17.926296</td>\n      <td>0.000000</td>\n      <td>0.000000</td>\n    </tr>\n    <tr>\n      <th>11</th>\n      <td>rs12350076</td>\n      <td>27580676</td>\n      <td>4</td>\n      <td>C</td>\n      <td>A</td>\n      <td>C</td>\n      <td>770</td>\n      <td>816</td>\n      <td>714</td>\n      <td>902</td>\n      <td>3202</td>\n      <td>49.531543</td>\n      <td>28.169894</td>\n      <td>22.298563</td>\n      <td>49.531543</td>\n      <td>22.298563</td>\n    </tr>\n    <tr>\n      <th>12</th>\n      <td>rs2783010</td>\n      <td>27581241</td>\n      <td>3</td>\n      <td>C</td>\n      <td>T</td>\n      <td>C</td>\n      <td>751</td>\n      <td>788</td>\n      <td>748</td>\n      <td>915</td>\n      <td>3202</td>\n      <td>48.063710</td>\n      <td>28.575890</td>\n      <td>23.360400</td>\n      <td>48.063710</td>\n      <td>23.360400</td>\n    </tr>\n    <tr>\n      <th>13</th>\n      <td>rs2814706</td>\n      <td>27581251</td>\n      <td>3</td>\n      <td>A</td>\n      <td>G</td>\n      <td>A</td>\n      <td>754</td>\n      <td>777</td>\n      <td>804</td>\n      <td>867</td>\n      <td>3202</td>\n      <td>47.813866</td>\n      <td>27.076827</td>\n      <td>25.109307</td>\n      <td>47.813866</td>\n      <td>25.109307</td>\n    </tr>\n    <tr>\n      <th>14</th>\n      <td>rs36062268</td>\n      <td>27585699</td>\n      <td>2</td>\n      <td>T</td>\n      <td>G</td>\n      <td>A</td>\n      <td>223</td>\n      <td>178</td>\n      <td>30</td>\n      <td>2771</td>\n      <td>3202</td>\n      <td>12.523423</td>\n      <td>86.539663</td>\n      <td>0.936914</td>\n      <td>0.000000</td>\n      <td>0.000000</td>\n    </tr>\n    <tr>\n      <th>15</th>\n      <td>rs2453556</td>\n      <td>27586164</td>\n      <td>1</td>\n      <td>G</td>\n      <td>A</td>\n      <td>G</td>\n      <td>747</td>\n      <td>754</td>\n      <td>708</td>\n      <td>993</td>\n      <td>3202</td>\n      <td>46.876952</td>\n      <td>31.011868</td>\n      <td>22.111181</td>\n      <td>46.876952</td>\n      <td>22.111181</td>\n    </tr>\n  </tbody>\n</table>\n</div>"
     },
     "execution_count": 10,
     "metadata": {},
     "output_type": "execute_result"
    }
   ],
   "source": [
    "loci = []\n",
    "counts = {(1,0): [], (0, 1): [], (1, 1): [], (0, 0): []}\n",
    "unrecognized = {}\n",
    "for i, vr in variants[variants['Locus'].isin(loi['Locus'])].iterrows():\n",
    "    loci.append(vr.Locus)\n",
    "    count = {(1,0): 0, (0, 1): 0, (1, 1): 0, (0, 0): 0}\n",
    "    for j, gr in genotypes.iterrows():\n",
    "        call = gr['Genotype'][i]\n",
    "        if call in count:\n",
    "            count[call] += 1\n",
    "        elif call == (None, None):\n",
    "            count[(0, 0)] += 1\n",
    "        else:\n",
    "            unrecognized[call] = unrecognized.get(call, 0) + 1\n",
    "    for key in count:\n",
    "        counts[key].append(count[key])\n",
    "print(f'Unrecognized call frequencies: {unrecognized}')\n",
    "result = pd.DataFrame({'Locus': loci, '1/0 Frequency': counts[(1, 0)], '0/1 Frequency': counts[(0, 1)], '1/1 Frequency': counts[(1, 1)], '0/0 Frequency': counts[(0, 0)]})\n",
    "result['Total Frequency'] = result[['1/0 Frequency', '0/1 Frequency', '1/1 Frequency', '0/0 Frequency']].sum(axis=1)\n",
    "result = result.merge(variants, how='left', on='Locus')\n",
    "result = result.merge(loi, how='left', on='Locus')[['RefSNP', 'Locus', 'ID', 'nt', 'Ref', 'Alt', '1/0 Frequency', '0/1 Frequency', '1/1 Frequency', '0/0 Frequency', 'Total Frequency']]\n",
    "result = result.assign(**{'Heterozygous Percentage': lambda x: ((x['1/0 Frequency'] + x['0/1 Frequency']) / n) * 100, 'Homozygous Ref Percentage': lambda x: (x['0/0 Frequency'] / n) * 100, 'Homozygous Alt Percentage': lambda x: (x['1/1 Frequency'] / n) * 100})\n",
    "result['Heterozygous nt Percentage'] = result.apply(lambda x: x['Heterozygous Percentage'] if (x['nt'] == x['Ref']) or (x['nt'] == x['Alt']) else 0, axis=1)\n",
    "result['Homozygous nt Percentage'] = result.apply(lambda x: x['Homozygous Ref Percentage'] if (x['nt'] == x['Ref']) else (x['Homozygous Alt Percentage'] if (x['nt'] == x['Alt']) else 0), axis=1)\n",
    "\n",
    "result"
   ],
   "metadata": {
    "collapsed": false,
    "ExecuteTime": {
     "end_time": "2024-08-31T01:40:43.725891297Z",
     "start_time": "2024-08-31T01:40:40.615104182Z"
    }
   },
   "id": "75def8aa1eb8d6ff"
  },
  {
   "cell_type": "code",
   "execution_count": 11,
   "outputs": [],
   "source": [
    "Path('Output').mkdir(parents=True, exist_ok=True)\n",
    "result.to_csv('Output/C9orf72_1000_GENOMES_nucleotide_frequency.csv', index=False)"
   ],
   "metadata": {
    "collapsed": false,
    "ExecuteTime": {
     "end_time": "2024-08-31T01:40:43.726292184Z",
     "start_time": "2024-08-31T01:40:42.776704048Z"
    }
   },
   "id": "8977a0e57701f218"
  }
 ],
 "metadata": {
  "kernelspec": {
   "display_name": "Python 3",
   "language": "python",
   "name": "python3"
  },
  "language_info": {
   "codemirror_mode": {
    "name": "ipython",
    "version": 2
   },
   "file_extension": ".py",
   "mimetype": "text/x-python",
   "name": "python",
   "nbconvert_exporter": "python",
   "pygments_lexer": "ipython2",
   "version": "2.7.6"
  }
 },
 "nbformat": 4,
 "nbformat_minor": 5
}
